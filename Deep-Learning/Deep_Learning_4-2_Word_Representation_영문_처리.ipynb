{
  "nbformat": 4,
  "nbformat_minor": 0,
  "metadata": {
    "colab": {
      "provenance": [],
      "authorship_tag": "ABX9TyOPVdF5JL82Oy58pNuXU+L/",
      "include_colab_link": true
    },
    "kernelspec": {
      "name": "python3",
      "display_name": "Python 3"
    },
    "language_info": {
      "name": "python"
    }
  },
  "cells": [
    {
      "cell_type": "markdown",
      "metadata": {
        "id": "view-in-github",
        "colab_type": "text"
      },
      "source": [
        "<a href=\"https://colab.research.google.com/github/projectCHOI/Deep-Learning/blob/main/Deep_Learning_Word_Representation_%EC%98%81%EB%AC%B8_%EC%B2%98%EB%A6%AC.ipynb\" target=\"_parent\"><img src=\"https://colab.research.google.com/assets/colab-badge.svg\" alt=\"Open In Colab\"/></a>"
      ]
    },
    {
      "cell_type": "markdown",
      "source": [
        "Deep-Learning_텍스트마이닝 영어 처리"
      ],
      "metadata": {
        "id": "WPoa7ih4s5K9"
      }
    },
    {
      "cell_type": "code",
      "execution_count": null,
      "metadata": {
        "id": "he9VtFOSPrhG"
      },
      "outputs": [],
      "source": [
        "import requests\n",
        "from bs4 import BeautifulSoup"
      ]
    },
    {
      "cell_type": "code",
      "source": [
        "URL = 'https://www.forbes.com/sites/adrianbridgwater/2019/04/15/what-drove-the-ai-renaissance/?ss=ai-big-data&sh=613c5e101f25'\n",
        "requests = requests.get(URL)\n",
        "soup = BeautifulSoup(requests.text, \"html.parser\")"
      ],
      "metadata": {
        "id": "C9wmLnJUSj12"
      },
      "execution_count": null,
      "outputs": []
    },
    {
      "cell_type": "code",
      "source": [
        "div = soup.find('div', class_='article-body fs-article fs-responsive-text current-article')\n",
        "p_tag = div.find_all('p')\n",
        "content=''\n",
        "for i in p_tag:\n",
        "    content+=i.text\n",
        "content"
      ],
      "metadata": {
        "id": "iRCQSaUYTFyu"
      },
      "execution_count": null,
      "outputs": []
    },
    {
      "cell_type": "markdown",
      "source": [
        "#영문토큰화\n",
        "- punkt tokenizer : https://www.nltk.org/modules/nitk/tokenize/punkt.html"
      ],
      "metadata": {
        "id": "A4UfgrZVbpgJ"
      }
    },
    {
      "cell_type": "markdown",
      "source": [
        "###첫번째. word_tokenize() : 마침표와 구두점(온점(.), 컴마(,), 물음표(?), 세미콜론(:), 느낌표(!) 등과 같은 기호)으로 구분하여 토큰화"
      ],
      "metadata": {
        "id": "BtP40tkCdrOV"
      }
    },
    {
      "cell_type": "code",
      "source": [
        "# word_tokenize\n",
        "import nltk\n",
        "# nltk punkt tokenizer download\n",
        "nltk.download('punkt')\n",
        "\n",
        "from nltk.tokenize import word_tokenize\n",
        "\n",
        "token1 = word_tokenize(content)\n",
        "print(token1)\n"
      ],
      "metadata": {
        "colab": {
          "base_uri": "https://localhost:8080/"
        },
        "id": "1mZ-53CnT5V8",
        "outputId": "7aead64e-0fc7-4841-837a-a08d8fe649ba"
      },
      "execution_count": null,
      "outputs": [
        {
          "output_type": "stream",
          "name": "stderr",
          "text": [
            "[nltk_data] Downloading package punkt to /root/nltk_data...\n",
            "[nltk_data]   Unzipping tokenizers/punkt.zip.\n"
          ]
        },
        {
          "output_type": "stream",
          "name": "stdout",
          "text": [
            "['Italian', 'Renaissance', ':', 'Vitruvian', 'Man', 'by', 'Leonardo', 'da', 'VinciIt', 'is', 'the', 'present-day', 'darling', 'of', 'the', 'tech', 'world', '.', 'The', 'current', 'renaissance', 'of', 'Artificial', 'Intelligence', '(', 'AI', ')', 'with', 'its', 'sister', 'discipline', 'Machine', 'Learning', '(', 'ML', ')', 'has', 'led', 'every', 'IT', 'firm', 'worth', 'its', 'salt', 'to', 'engineer', 'some', 'form', 'of', 'AI', 'onto', 'its', 'platform', ',', 'into', 'its', 'toolsets', 'and', 'throughout', 'its', 'software', 'applications.IBM', 'CEO', 'Ginni', 'Rometty', 'has', 'already', 'proclaimed', 'that', 'AI', 'will', 'change', '100', 'percent', 'of', 'jobs', 'over', 'the', 'next', 'decade.And', 'yes', ',', 'she', 'does', 'mean', 'everybody', \"'s\", 'job', 'from', 'yours', 'to', 'mine', 'and', 'onward', 'to', 'the', 'role', 'of', 'grain', 'farmers', 'in', 'Egypt', ',', 'pastry', 'chefs', 'in', 'Paris', 'and', 'dog', 'walkers', 'in', 'Oregon', 'i.e', '.', 'every', 'job', '.', 'We', 'will', 'now', 'be', 'able', 'to', 'help', 'direct', 'all', 'workers', '’', 'actions', 'and', 'behavior', 'with', 'a', 'new', 'degree', 'of', 'intelligence', 'that', 'comes', 'from', 'predictive', 'analytics', ',', 'all', 'stemming', 'from', 'the', 'AI', 'engines', 'we', 'will', 'now', 'increasingly', 'depend', 'upon.When', 'did', 'it', 'all', 'go', 'so', 'right', '?', 'But', 'AI', 'used', 'to', 'be', 'a', 'fanciful', 'notion', 'mostly', 'confined', 'science', 'fiction', ',', 'so', 'when', 'did', 'it', 'all', 'go', 'right', '?', 'In', 'recent', 'years', 'we', '’', 've', 'had', 'some', 'big', 'changes', 'in', 'technology', '.', 'Aside', 'from', 'the', 'proliferation', 'of', 'mobile', 'devices', 'that', 'has', 'impacted', 'us', 'all', ',', 'memory', 'has', 'become', 'a', 'lot', 'cheaper', ',', 'data', 'storage', 'has', 'become', 'a', 'lot', 'easier', '(', 'in', 'cloud', ',', 'and', 'elsewhere', ')', 'and', 'computer', 'processing', 'speeds', 'have', 'continued', 'to', 'outstrip', 'previous', 'records', '.', 'With', 'the', 'power', 'of', 'quantum', 'computing', 'around', 'the', 'corner', ',', 'is', 'the', 'AI', 'renaissance', 'simply', 'a', 'result', 'of', 'the', 'coming', 'together', 'of', 'these', '‘', 'tech', 'ingredient', '’', 'forces', '?', '“', 'It', 'is', \"n't\", 'just', 'massive', 'compute', 'power', '.', 'There', 'are', 'important', 'algorithmic', 'changes', 'that', 'have', 'been', 'developed', '.', 'Plus', ',', 'it', 'is', 'much', 'easier', 'to', 'gain', 'access', 'to', 'more', 'data', 'in', 'an', 'Internet-connected', 'world', ',', '”', 'said', 'Ted', 'Dunning', ',', 'CTO', 'at', 'data', 'platform', ',', 'AI', 'and', 'analytics', 'company', 'MapR', '.', '“', 'All', 'three', 'aspects', '(', 'compute', ',', 'algorithms', ',', 'data', ')', 'combine', 'to', 'make', 'todays', 'machine', 'learning', 'possible', '.', 'Also', 'and', 'quite', 'frankly', ',', 'a', 'lot', 'of', 'applications', 'only', 'need', 'data', 'availability', '...', 'we', 'could', 'have', 'implemented', 'them', '25', 'years', 'ago', 'pretty', 'easily', 'if', 'the', 'data', 'had', 'been', 'available', 'and', 'the', 'output', 'of', 'the', 'model', 'could', 'have', 'been', 'integrated', 'back', 'into', 'the', 'business', 'flow.', '”', 'So', ',', 'in', 'many', 'ways', ',', 'Dunning', 'really', 'heralds', 'the', 'modern', 'era', 'of', 'the', 'web', 'as', 'the', 'key', 'facilitator', 'for', 'the', 'new', 'age', 'of', 'AI', '.', 'Information', 'has', 'become', 'not', 'just', 'ubiquitous', ';', 'it', 'has', 'also', 'become', 'easier', 'to', 'access', 'and', 'more', 'accurately', 'classified', 'into', 'structured', ',', 'semi-structured', 'and', 'unstructured', 'data', 'in', 'its', 'rawest', 'form.Tuning', 'AI', 'towards', 'lifeDunning', 'and', 'MapR', 'point', 'out', 'that', 'the', 'new', 'generation', 'of', 'AI', '&', 'ML', 'is', 'now', 'rediscovering', 'ideas', ',', 'some', 'of', 'which', 'were', 'first', 'thought', 'of', 'some', '50', 'years', 'ago', '.', 'The', 'difference', 'today', 'is', ',', 'each', 'time', 'keep', 'adding', 'a', 'bit', 'of', 'something', 'new', '.', 'A', 'bit', 'of', 'computing', 'power', 'here', ',', 'better', 'data', 'there', ',', 'new', 'ideas', 'for', 'organizing', 'and', 'optimizing', 'a', 'network', 'and', 'after', 'a', 'while', 'we', 'get', 'to', 'build', 'new', 'AI', 'systems', 'that', 'really', 'do', 'useful', 'work', '.', 'So', 'how', 'should', 'we', 'continue', 'to', 'engineer', 'these', 'new', 'systems', '?', '``', 'A', 'key', 'to', 'success', '[', 'in', 'the', 'new', 'era', 'of', 'AI', ']', 'is', 'to', 'focus', 'on', 'the', 'design', 'of', 'the', 'human-AI', 'interactions', 'as', 'much', 'as', 'in', 'the', 'AI', 'itself', ',', \"''\", 'said', 'Jesus', 'Mantas', ',', 'general', 'manager', 'and', 'managing', 'partner', 'in', 'IBM', 'Global', 'Business', 'Services', '.', '“', 'Many', 'AI', 'programs', 'focus', 'primarily', 'on', 'machine', 'learning', 'algorithms', 'and', 'training', 'datasets', ',', 'but', 'fail', 'to', 'address', 'the', 'most', 'important', 'success', 'factors', ':', 'the', 'design', 'of', 'human-machine', 'relationships', ',', 'new', 'AI-powered', 'workflows…', 'and', 'perfecting', 'the', 'choreography', 'of', 'processes', ',', 'technology', 'and', 'humans', '.', 'Those', 'programs', 'rarely', 'scale', 'or', 'achieve', 'benefits', '.', 'The', 'companies', 'succeeding', 'to', 'scale', 'AI', 'and', 'its', 'benefits', 'demonstrate', 'that', 'skilled', ',', 'purposeful', 'design', 'of', 'workflows', 'and', 'user', 'interactions', 'lead', 'to', 'faster', 'adoption', 'and', 'business', 'benefits', '.', '``', 'CEO', 'of', 'AI', 'code', 'analytics', 'platform', 'company', 'Gamma', 'is', 'Vishal', 'Rai', '.', 'In', 'general', 'terms', ',', 'Rai', 'agrees', 'that', 'the', 'AI', 'renaissance', 'has', 'been', 'driven', 'by', 'tectonic', 'shifts', 'in', 'three', 'areas', 'in', 'the', 'computing', 'world', ':', 'computing', 'power', ',', 'swathes', 'of', 'data', '(', 'and', 'its', 'accessibility', ')', '…', 'but', 'also', 'by', 'human', 'ingenuity.He', 'points', 'to', 'new', 'developments', 'coming', 'out', 'of', 'both', 'Silicon', 'Valley', 'but', 'further', 'afield', 'also', '(', 'China', 'being', 'a', 'prime', 'example', ',', 'Huawei', 'builds', 'its', 'smartphone', 'chipsets', 'around', 'its', 'Kirin', 'AI-enriched', 'microprocessor', ')', 'and', 'says', 'that', 'this', 'is', 'all', 'helping', 'to', 'create', 'future', 'industries', 'such', 'as', 'autonomous', 'driving', 'and', 'health', 'care', 'diagnostics.Real', 'world', 'application', 'of', 'AI', 'applicationsSo', 'in', 'what', 'ways', 'are', 'the', 'new', 'real', 'world', 'applications', 'of', 'AI', 'manifesting', 'themselves', 'and', 'starting', 'to', 'impact', 'the', 'services', 'we', 'use', 'below', 'the', 'surface', '?', 'Cloud', 'computing', 'software', 'intelligence', 'and', 'Application', 'Performance', 'Management', '(', 'APM', ')', 'specialist', 'Dynatrace', 'has', 'now', 'extended', 'its', 'AI-powered', 'platform', 'to', 'include', 'IBM', 'Z', 'mainframe', 'support', 'for', 'CICS', '(', 'a', 'mainframe', 'programming', 'language', ')', ',', 'IMS', '(', 'a', 'mainframe', 'database', ')', 'and', 'middleware', '.', 'To', 'put', 'that', 'in', 'less', 'technical', 'terms', ',', 'Dynatrace', 'can', 'be', 'used', 'to', 'monitor', 'software', 'that', 'sits', 'on', 'mainframes', 'to', 'make', 'sure', 'it', 'stays', 'healthy.Why', 'bother', '?', 'Because', 'the', 'mainframe', 'was', 'never', 'built', 'to', 'be', 'hammered', 'by', 'devices', 'with', 'massively', 'busy', 'data', 'streams', 'like', 'mobile', 'banking', 'apps', ',', 'games', 'and', 'other', 'online', 'niceties', '.', 'This', 'means', 'we', 'need', 'AI', 'to', 'understand', 'what', 'impact', 'the', 'mainframe', 'is', 'having', 'on', 'the', 'newer', 'systems', 'we', 'build.', '“', 'While', 'enterprises', 'are', 'moving', 'applications', 'to', 'modern', 'cloud', 'stacks', 'for', 'agility', 'and', 'competitive', 'advantage', ',', 'these', 'applications', 'often', 'still', 'depend', 'on', 'critical', 'transactions', 'and', '‘', 'crown', 'jewels', '’', 'customer', 'data', 'residing', 'on', 'IBM', 'Z', 'mainframes', '.', 'This', 'puts', 'pressure', 'on', 'these', 'resources', 'to', 'perform', 'tasks', 'that', 'were', 'not', 'envisioned', 'when', 'the', 'mainframes', 'were', 'launched', ',', '”', 'said', 'Steve', 'Tack', ',', 'SVP', 'of', 'products', 'at', 'Dynatrace', '.', '“', 'Because', 'Dynatrace', 'provides', 'end-to-end', 'hybrid', 'visibility', '[', 'through', 'our', 'Davis', 'AI', 'engine', ']', ',', 'customers', 'can', 'optimize', 'new', 'services', ',', 'catch', 'performance', 'degradations', 'before', 'user', 'impact', ',', 'and', 'understand', 'exactly', 'who', 'has', 'been', 'impacted', 'by', 'an', 'incident', '.', 'This', 'enables', 'customers', 'to', 'confidently', 'innovate', 'applications', 'that', 'leverage', 'data', 'from', 'mainframes', 'to', 'increase', 'revenue', ',', 'build', 'brand', 'loyalty', ',', 'and', 'create', 'competitive', 'advantage.', '”', 'AI', 'as', 'a', 'work', 'of', 'artMany', 'would', 'argue', 'that', 'the', 'path', 'to', 'contemporary', 'AI', 'has', 'been', 'a', 'long', 'slog', ',', 'but', 'the', 'systems', 'we', 'build', 'now', 'keep', 'finding', 'clever', 'shortcuts…', 'so', 'the', 'momentum', 'for', 'the', 'AI', 'renaissance', 'is', 'actually', 'building', 'cumulatively.Some', 'argue', 'that', 'AI', 'never', 'went', 'away', 'and', 'that', 'the', 'current', 'popularization', 'of', 'AI', 'and', 'its', 'ensuing', 'discussion', 'is', 'just', 'a', 'natural', 'progression', 'of', 'a', 'technology', 'that', 'simply', 'needed', 'to', 'come', 'through', 'a', 'period', 'of', 'adolescence', '.', 'Either', 'way', ',', 'AI', 'is', 'in', 'your', 'smartphone', 'and', 'in', 'your', 'cloud', 'computing', 'services', ',', 'so', 'renaissance', 'or', 'not', ',', 'let', '’', 's', 'hope', 'it', 'continues', 'to', 'become', 'a', 'work', 'of', 'art.Renaissance', 'art']\n"
          ]
        }
      ]
    },
    {
      "cell_type": "markdown",
      "source": [
        "###두번째. WordPunctTokenizer(): 알파벳이 아닌문자를 구분하여 토큰화\n"
      ],
      "metadata": {
        "id": "v9Z_fq54dwvQ"
      }
    },
    {
      "cell_type": "code",
      "source": [
        "# WordPunctTokenizer():\n",
        "import nltk\n",
        "\n",
        "from nltk.tokenize import WordPunctTokenizer\n",
        "token2 = WordPunctTokenizer().tokenize(content)\n",
        "\n",
        "print(token2)"
      ],
      "metadata": {
        "colab": {
          "base_uri": "https://localhost:8080/"
        },
        "id": "mt3BuF8hUY84",
        "outputId": "e164019d-0486-4908-cdad-0bf739cfb744"
      },
      "execution_count": null,
      "outputs": [
        {
          "output_type": "stream",
          "name": "stdout",
          "text": [
            "['Italian', 'Renaissance', ':', 'Vitruvian', 'Man', 'by', 'Leonardo', 'da', 'VinciIt', 'is', 'the', 'present', '-', 'day', 'darling', 'of', 'the', 'tech', 'world', '.', 'The', 'current', 'renaissance', 'of', 'Artificial', 'Intelligence', '(', 'AI', ')', 'with', 'its', 'sister', 'discipline', 'Machine', 'Learning', '(', 'ML', ')', 'has', 'led', 'every', 'IT', 'firm', 'worth', 'its', 'salt', 'to', 'engineer', 'some', 'form', 'of', 'AI', 'onto', 'its', 'platform', ',', 'into', 'its', 'toolsets', 'and', 'throughout', 'its', 'software', 'applications', '.', 'IBM', 'CEO', 'Ginni', 'Rometty', 'has', 'already', 'proclaimed', 'that', 'AI', 'will', 'change', '100', 'percent', 'of', 'jobs', 'over', 'the', 'next', 'decade', '.', 'And', 'yes', ',', 'she', 'does', 'mean', 'everybody', \"'\", 's', 'job', 'from', 'yours', 'to', 'mine', 'and', 'onward', 'to', 'the', 'role', 'of', 'grain', 'farmers', 'in', 'Egypt', ',', 'pastry', 'chefs', 'in', 'Paris', 'and', 'dog', 'walkers', 'in', 'Oregon', 'i', '.', 'e', '.', 'every', 'job', '.', 'We', 'will', 'now', 'be', 'able', 'to', 'help', 'direct', 'all', 'workers', '’', 'actions', 'and', 'behavior', 'with', 'a', 'new', 'degree', 'of', 'intelligence', 'that', 'comes', 'from', 'predictive', 'analytics', ',', 'all', 'stemming', 'from', 'the', 'AI', 'engines', 'we', 'will', 'now', 'increasingly', 'depend', 'upon', '.', 'When', 'did', 'it', 'all', 'go', 'so', 'right', '?', 'But', 'AI', 'used', 'to', 'be', 'a', 'fanciful', 'notion', 'mostly', 'confined', 'science', 'fiction', ',', 'so', 'when', 'did', 'it', 'all', 'go', 'right', '?', 'In', 'recent', 'years', 'we', '’', 've', 'had', 'some', 'big', 'changes', 'in', 'technology', '.', 'Aside', 'from', 'the', 'proliferation', 'of', 'mobile', 'devices', 'that', 'has', 'impacted', 'us', 'all', ',', 'memory', 'has', 'become', 'a', 'lot', 'cheaper', ',', 'data', 'storage', 'has', 'become', 'a', 'lot', 'easier', '(', 'in', 'cloud', ',', 'and', 'elsewhere', ')', 'and', 'computer', 'processing', 'speeds', 'have', 'continued', 'to', 'outstrip', 'previous', 'records', '.', 'With', 'the', 'power', 'of', 'quantum', 'computing', 'around', 'the', 'corner', ',', 'is', 'the', 'AI', 'renaissance', 'simply', 'a', 'result', 'of', 'the', 'coming', 'together', 'of', 'these', '‘', 'tech', 'ingredient', '’', 'forces', '?“', 'It', 'isn', \"'\", 't', 'just', 'massive', 'compute', 'power', '.', 'There', 'are', 'important', 'algorithmic', 'changes', 'that', 'have', 'been', 'developed', '.', 'Plus', ',', 'it', 'is', 'much', 'easier', 'to', 'gain', 'access', 'to', 'more', 'data', 'in', 'an', 'Internet', '-', 'connected', 'world', ',”', 'said', 'Ted', 'Dunning', ',', 'CTO', 'at', 'data', 'platform', ',', 'AI', 'and', 'analytics', 'company', 'MapR', '.', '“', 'All', 'three', 'aspects', '(', 'compute', ',', 'algorithms', ',', 'data', ')', 'combine', 'to', 'make', 'todays', 'machine', 'learning', 'possible', '.', 'Also', 'and', 'quite', 'frankly', ',', 'a', 'lot', 'of', 'applications', 'only', 'need', 'data', 'availability', '...', 'we', 'could', 'have', 'implemented', 'them', '25', 'years', 'ago', 'pretty', 'easily', 'if', 'the', 'data', 'had', 'been', 'available', 'and', 'the', 'output', 'of', 'the', 'model', 'could', 'have', 'been', 'integrated', 'back', 'into', 'the', 'business', 'flow', '.”', 'So', ',', 'in', 'many', 'ways', ',', 'Dunning', 'really', 'heralds', 'the', 'modern', 'era', 'of', 'the', 'web', 'as', 'the', 'key', 'facilitator', 'for', 'the', 'new', 'age', 'of', 'AI', '.', 'Information', 'has', 'become', 'not', 'just', 'ubiquitous', ';', 'it', 'has', 'also', 'become', 'easier', 'to', 'access', 'and', 'more', 'accurately', 'classified', 'into', 'structured', ',', 'semi', '-', 'structured', 'and', 'unstructured', 'data', 'in', 'its', 'rawest', 'form', '.', 'Tuning', 'AI', 'towards', 'lifeDunning', 'and', 'MapR', 'point', 'out', 'that', 'the', 'new', 'generation', 'of', 'AI', '&', 'ML', 'is', 'now', 'rediscovering', 'ideas', ',', 'some', 'of', 'which', 'were', 'first', 'thought', 'of', 'some', '50', 'years', 'ago', '.', 'The', 'difference', 'today', 'is', ',', 'each', 'time', 'keep', 'adding', 'a', 'bit', 'of', 'something', 'new', '.', 'A', 'bit', 'of', 'computing', 'power', 'here', ',', 'better', 'data', 'there', ',', 'new', 'ideas', 'for', 'organizing', 'and', 'optimizing', 'a', 'network', 'and', 'after', 'a', 'while', 'we', 'get', 'to', 'build', 'new', 'AI', 'systems', 'that', 'really', 'do', 'useful', 'work', '.', 'So', 'how', 'should', 'we', 'continue', 'to', 'engineer', 'these', 'new', 'systems', '?\"', 'A', 'key', 'to', 'success', '[', 'in', 'the', 'new', 'era', 'of', 'AI', ']', 'is', 'to', 'focus', 'on', 'the', 'design', 'of', 'the', 'human', '-', 'AI', 'interactions', 'as', 'much', 'as', 'in', 'the', 'AI', 'itself', ',\"', 'said', 'Jesus', 'Mantas', ',', 'general', 'manager', 'and', 'managing', 'partner', 'in', 'IBM', 'Global', 'Business', 'Services', '.', '“', 'Many', 'AI', 'programs', 'focus', 'primarily', 'on', 'machine', 'learning', 'algorithms', 'and', 'training', 'datasets', ',', 'but', 'fail', 'to', 'address', 'the', 'most', 'important', 'success', 'factors', ':', 'the', 'design', 'of', 'human', '-', 'machine', 'relationships', ',', 'new', 'AI', '-', 'powered', 'workflows', '…', 'and', 'perfecting', 'the', 'choreography', 'of', 'processes', ',', 'technology', 'and', 'humans', '.', 'Those', 'programs', 'rarely', 'scale', 'or', 'achieve', 'benefits', '.', 'The', 'companies', 'succeeding', 'to', 'scale', 'AI', 'and', 'its', 'benefits', 'demonstrate', 'that', 'skilled', ',', 'purposeful', 'design', 'of', 'workflows', 'and', 'user', 'interactions', 'lead', 'to', 'faster', 'adoption', 'and', 'business', 'benefits', '.\"', 'CEO', 'of', 'AI', 'code', 'analytics', 'platform', 'company', 'Gamma', 'is', 'Vishal', 'Rai', '.', 'In', 'general', 'terms', ',', 'Rai', 'agrees', 'that', 'the', 'AI', 'renaissance', 'has', 'been', 'driven', 'by', 'tectonic', 'shifts', 'in', 'three', 'areas', 'in', 'the', 'computing', 'world', ':', 'computing', 'power', ',', 'swathes', 'of', 'data', '(', 'and', 'its', 'accessibility', ')…', 'but', 'also', 'by', 'human', 'ingenuity', '.', 'He', 'points', 'to', 'new', 'developments', 'coming', 'out', 'of', 'both', 'Silicon', 'Valley', 'but', 'further', 'afield', 'also', '(', 'China', 'being', 'a', 'prime', 'example', ',', 'Huawei', 'builds', 'its', 'smartphone', 'chipsets', 'around', 'its', 'Kirin', 'AI', '-', 'enriched', 'microprocessor', ')', 'and', 'says', 'that', 'this', 'is', 'all', 'helping', 'to', 'create', 'future', 'industries', 'such', 'as', 'autonomous', 'driving', 'and', 'health', 'care', 'diagnostics', '.', 'Real', 'world', 'application', 'of', 'AI', 'applicationsSo', 'in', 'what', 'ways', 'are', 'the', 'new', 'real', 'world', 'applications', 'of', 'AI', 'manifesting', 'themselves', 'and', 'starting', 'to', 'impact', 'the', 'services', 'we', 'use', 'below', 'the', 'surface', '?', 'Cloud', 'computing', 'software', 'intelligence', 'and', 'Application', 'Performance', 'Management', '(', 'APM', ')', 'specialist', 'Dynatrace', 'has', 'now', 'extended', 'its', 'AI', '-', 'powered', 'platform', 'to', 'include', 'IBM', 'Z', 'mainframe', 'support', 'for', 'CICS', '(', 'a', 'mainframe', 'programming', 'language', '),', 'IMS', '(', 'a', 'mainframe', 'database', ')', 'and', 'middleware', '.', 'To', 'put', 'that', 'in', 'less', 'technical', 'terms', ',', 'Dynatrace', 'can', 'be', 'used', 'to', 'monitor', 'software', 'that', 'sits', 'on', 'mainframes', 'to', 'make', 'sure', 'it', 'stays', 'healthy', '.', 'Why', 'bother', '?', 'Because', 'the', 'mainframe', 'was', 'never', 'built', 'to', 'be', 'hammered', 'by', 'devices', 'with', 'massively', 'busy', 'data', 'streams', 'like', 'mobile', 'banking', 'apps', ',', 'games', 'and', 'other', 'online', 'niceties', '.', 'This', 'means', 'we', 'need', 'AI', 'to', 'understand', 'what', 'impact', 'the', 'mainframe', 'is', 'having', 'on', 'the', 'newer', 'systems', 'we', 'build', '.“', 'While', 'enterprises', 'are', 'moving', 'applications', 'to', 'modern', 'cloud', 'stacks', 'for', 'agility', 'and', 'competitive', 'advantage', ',', 'these', 'applications', 'often', 'still', 'depend', 'on', 'critical', 'transactions', 'and', '‘', 'crown', 'jewels', '’', 'customer', 'data', 'residing', 'on', 'IBM', 'Z', 'mainframes', '.', 'This', 'puts', 'pressure', 'on', 'these', 'resources', 'to', 'perform', 'tasks', 'that', 'were', 'not', 'envisioned', 'when', 'the', 'mainframes', 'were', 'launched', ',”', 'said', 'Steve', 'Tack', ',', 'SVP', 'of', 'products', 'at', 'Dynatrace', '.', '“', 'Because', 'Dynatrace', 'provides', 'end', '-', 'to', '-', 'end', 'hybrid', 'visibility', '[', 'through', 'our', 'Davis', 'AI', 'engine', '],', 'customers', 'can', 'optimize', 'new', 'services', ',', 'catch', 'performance', 'degradations', 'before', 'user', 'impact', ',', 'and', 'understand', 'exactly', 'who', 'has', 'been', 'impacted', 'by', 'an', 'incident', '.', 'This', 'enables', 'customers', 'to', 'confidently', 'innovate', 'applications', 'that', 'leverage', 'data', 'from', 'mainframes', 'to', 'increase', 'revenue', ',', 'build', 'brand', 'loyalty', ',', 'and', 'create', 'competitive', 'advantage', '.”', 'AI', 'as', 'a', 'work', 'of', 'artMany', 'would', 'argue', 'that', 'the', 'path', 'to', 'contemporary', 'AI', 'has', 'been', 'a', 'long', 'slog', ',', 'but', 'the', 'systems', 'we', 'build', 'now', 'keep', 'finding', 'clever', 'shortcuts', '…', 'so', 'the', 'momentum', 'for', 'the', 'AI', 'renaissance', 'is', 'actually', 'building', 'cumulatively', '.', 'Some', 'argue', 'that', 'AI', 'never', 'went', 'away', 'and', 'that', 'the', 'current', 'popularization', 'of', 'AI', 'and', 'its', 'ensuing', 'discussion', 'is', 'just', 'a', 'natural', 'progression', 'of', 'a', 'technology', 'that', 'simply', 'needed', 'to', 'come', 'through', 'a', 'period', 'of', 'adolescence', '.', 'Either', 'way', ',', 'AI', 'is', 'in', 'your', 'smartphone', 'and', 'in', 'your', 'cloud', 'computing', 'services', ',', 'so', 'renaissance', 'or', 'not', ',', 'let', '’', 's', 'hope', 'it', 'continues', 'to', 'become', 'a', 'work', 'of', 'art', '.', 'Renaissance', 'art']\n"
          ]
        }
      ]
    },
    {
      "cell_type": "markdown",
      "source": [
        "###세번째. TreebankWordTokenizer(): 정규표현식에 기반한 토큰화\n"
      ],
      "metadata": {
        "id": "MlEpb_1qd2mx"
      }
    },
    {
      "cell_type": "code",
      "source": [
        "# TreebankWordTokenizer() : 정규표현식에 기반한 토큰화\n",
        "import nltk\n",
        "from nltk.tokenize import TreebankWordTokenizer\n",
        "token = TreebankWordTokenizer().tokenize (content)\n",
        "print(token[:20])\n"
      ],
      "metadata": {
        "colab": {
          "base_uri": "https://localhost:8080/"
        },
        "id": "Jm9CrJEgd4Y6",
        "outputId": "607269b5-fdb2-41a2-98f6-bd11c4e93ce5"
      },
      "execution_count": null,
      "outputs": [
        {
          "output_type": "stream",
          "name": "stdout",
          "text": [
            "['Italian', 'Renaissance', ':', 'Vitruvian', 'Man', 'by', 'Leonardo', 'da', 'VinciIt', 'is', 'the', 'present-day', 'darling', 'of', 'the', 'tech', 'world.', 'The', 'current', 'renaissance']\n"
          ]
        }
      ]
    },
    {
      "cell_type": "markdown",
      "source": [
        "#영문 품사 부착\n",
        "- https://www.nltk.org/api/nltk.tag.html\n",
        "\n",
        "- 테그목록 : https://pythonprogramming.net/natural-language-toolkit-nitk-part-speech-tagging/\n"
      ],
      "metadata": {
        "id": "F48tiAC1g-_K"
      }
    },
    {
      "cell_type": "code",
      "source": [
        "from nltk import pos_tag\n",
        "nltk.download(\"averaged_perceptron_tagger\")\n"
      ],
      "metadata": {
        "colab": {
          "base_uri": "https://localhost:8080/"
        },
        "id": "v6n0NXPqhBGj",
        "outputId": "e0b2a0ec-328b-46c8-f7fb-0bd6ff4058d1"
      },
      "execution_count": null,
      "outputs": [
        {
          "output_type": "stream",
          "name": "stderr",
          "text": [
            "[nltk_data] Downloading package averaged_perceptron_tagger to\n",
            "[nltk_data]     /root/nltk_data...\n",
            "[nltk_data]   Unzipping taggers/averaged_perceptron_tagger.zip.\n"
          ]
        },
        {
          "output_type": "execute_result",
          "data": {
            "text/plain": [
              "True"
            ]
          },
          "metadata": {},
          "execution_count": 8
        }
      ]
    },
    {
      "cell_type": "code",
      "source": [
        "taggedToken = pos_tag(token1)\n",
        "\n",
        "print(taggedToken[:20])"
      ],
      "metadata": {
        "colab": {
          "base_uri": "https://localhost:8080/"
        },
        "id": "LWk7JDngigSb",
        "outputId": "791c3c55-519b-4d11-81a3-67ee9a91dbd3"
      },
      "execution_count": null,
      "outputs": [
        {
          "output_type": "stream",
          "name": "stdout",
          "text": [
            "[('Italian', 'JJ'), ('Renaissance', 'NNP'), (':', ':'), ('Vitruvian', 'JJ'), ('Man', 'NN'), ('by', 'IN'), ('Leonardo', 'NNP'), ('da', 'NN'), ('VinciIt', 'NNP'), ('is', 'VBZ'), ('the', 'DT'), ('present-day', 'JJ'), ('darling', 'NN'), ('of', 'IN'), ('the', 'DT'), ('tech', 'JJ'), ('world', 'NN'), ('.', '.'), ('The', 'DT'), ('current', 'JJ')]\n"
          ]
        }
      ]
    },
    {
      "cell_type": "markdown",
      "source": [
        "###영문 개체명 인식\n",
        "- http://www.nltk.org/api/nltk.chunk.html"
      ],
      "metadata": {
        "id": "k-qOZQfIi93u"
      }
    },
    {
      "cell_type": "code",
      "source": [
        "# 예시 : Barack Obama likes fried chicken very much\n",
        "# word_tokenize() : 마침표와 구두점(온점(.), 컴마(,), 물음표(?), 세미콜론(;), 느낌표(!) 등과 같은 기호로 구분해서 토큰\n",
        "nltk.download ('words')\n",
        "nltk.download ('maxent_ne_chunker')\n"
      ],
      "metadata": {
        "colab": {
          "base_uri": "https://localhost:8080/"
        },
        "id": "PnJjBibaiiIO",
        "outputId": "a7e027a8-675c-4ecf-d9e8-16338ae32db1"
      },
      "execution_count": null,
      "outputs": [
        {
          "output_type": "stream",
          "name": "stderr",
          "text": [
            "[nltk_data] Downloading package words to /root/nltk_data...\n",
            "[nltk_data]   Unzipping corpora/words.zip.\n",
            "[nltk_data] Downloading package maxent_ne_chunker to\n",
            "[nltk_data]     /root/nltk_data...\n",
            "[nltk_data]   Unzipping chunkers/maxent_ne_chunker.zip.\n"
          ]
        },
        {
          "output_type": "execute_result",
          "data": {
            "text/plain": [
              "True"
            ]
          },
          "metadata": {},
          "execution_count": 10
        }
      ]
    },
    {
      "cell_type": "code",
      "source": [
        "import nltk\n",
        "nltk.download('punkt')\n",
        "from nltk.tokenize import word_tokenize\n",
        "#토큰화\n",
        "token1 = word_tokenize('Barack Obama likes fried chicken very much')\n",
        "print('token: ', token1)\n"
      ],
      "metadata": {
        "colab": {
          "base_uri": "https://localhost:8080/"
        },
        "id": "N1VNT2gdkIKX",
        "outputId": "15a767f1-e65e-439a-d3ea-52a80ceaac5d"
      },
      "execution_count": null,
      "outputs": [
        {
          "output_type": "stream",
          "name": "stdout",
          "text": [
            "token:  ['Barack', 'Obama', 'likes', 'fried', 'chicken', 'very', 'much']\n"
          ]
        },
        {
          "output_type": "stream",
          "name": "stderr",
          "text": [
            "[nltk_data] Downloading package punkt to /root/nltk_data...\n",
            "[nltk_data]   Package punkt is already up-to-date!\n"
          ]
        }
      ]
    },
    {
      "cell_type": "code",
      "source": [
        "# pos-tag\n",
        "taggedToken = pos_tag(token1)\n",
        "print('pos-tag: ', taggedToken)\n"
      ],
      "metadata": {
        "colab": {
          "base_uri": "https://localhost:8080/"
        },
        "id": "KdGuoyJ_kKKK",
        "outputId": "803c7669-8a38-4b04-8b19-bbba6ea11ceb"
      },
      "execution_count": null,
      "outputs": [
        {
          "output_type": "stream",
          "name": "stdout",
          "text": [
            "pos-tag:  [('Barack', 'NNP'), ('Obama', 'NNP'), ('likes', 'VBZ'), ('fried', 'VBN'), ('chicken', 'JJ'), ('very', 'RB'), ('much', 'JJ')]\n"
          ]
        }
      ]
    },
    {
      "cell_type": "code",
      "source": [
        "# chunking\n",
        "from nltk import ne_chunk\n",
        "neToken=ne_chunk (taggedToken)\n",
        "print (neToken)"
      ],
      "metadata": {
        "colab": {
          "base_uri": "https://localhost:8080/"
        },
        "id": "ubFNreWlkL1X",
        "outputId": "7fb0d931-8827-4d92-abd8-44f180fcf5af"
      },
      "execution_count": null,
      "outputs": [
        {
          "output_type": "stream",
          "name": "stdout",
          "text": [
            "(S\n",
            "  (PERSON Barack/NNP)\n",
            "  (ORGANIZATION Obama/NNP)\n",
            "  likes/VBZ\n",
            "  fried/VBN\n",
            "  chicken/JJ\n",
            "  very/RB\n",
            "  much/JJ)\n"
          ]
        }
      ]
    }
  ]
}